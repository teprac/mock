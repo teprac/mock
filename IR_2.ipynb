{
 "cells": [
  {
   "cell_type": "code",
   "execution_count": 1,
   "id": "65583f1d",
   "metadata": {
    "scrolled": true
   },
   "outputs": [
    {
     "data": {
      "text/plain": [
       "'This is the first word. \\nThis is the second text, Hello! How are you? \\nThis is the third, this is it now. '"
      ]
     },
     "execution_count": 1,
     "metadata": {},
     "output_type": "execute_result"
    }
   ],
   "source": [
    "file = open('writefile.txt', encoding='utf8') \n",
    "read = file.read() \n",
    "file.seek(0) \n",
    "read \n",
    "# to obtain the \n",
    "# number of lines"
   ]
  },
  {
   "cell_type": "code",
   "execution_count": 2,
   "id": "0397f6c6",
   "metadata": {},
   "outputs": [
    {
     "name": "stdout",
     "output_type": "stream",
     "text": [
      "Number of lines in file is:  3\n"
     ]
    }
   ],
   "source": [
    "# in file \n",
    "line = 1 \n",
    "for word in read: \n",
    "    if word == '\\n': \n",
    "        line += 1 \n",
    "print(\"Number of lines in file is: \", line) \n",
    "# create a list to \n",
    "# store each line as \n",
    "# an element of list \n",
    "array = [] \n",
    "for i in range(line): \n",
    "    array.append(file.readline()) \n",
    "    array "
   ]
  },
  {
   "cell_type": "code",
   "execution_count": 3,
   "id": "9a987462",
   "metadata": {},
   "outputs": [
    {
     "data": {
      "text/plain": [
       "'this is the first word  \\nthis is the second text  hello  how are you  \\nthis is the third  this is it now  '"
      ]
     },
     "execution_count": 3,
     "metadata": {},
     "output_type": "execute_result"
    }
   ],
   "source": [
    "#Remove punctuation:  \n",
    "\n",
    "punc = '''!()-[]{};:'\"\\, <>./?@#$%^&*_~''' \n",
    "for ele in read:  \n",
    "    if ele in punc:  \n",
    "        read = read.replace(ele, \" \")  \n",
    "        read \n",
    " # to maintain uniformity \n",
    "read=read.lower()                    \n",
    "read\n"
   ]
  },
  {
   "cell_type": "code",
   "execution_count": 4,
   "id": "6c2ce556",
   "metadata": {},
   "outputs": [],
   "source": [
    "def tokenize_words(file_contents): \n",
    "    \"\"\" \n",
    "    Tokenizes the file contents. \n",
    "    Parameters \n",
    "    ---------- \n",
    "    file_contents : list \n",
    "        A list of strings containing the contents of the file. \n",
    "    Returns \n",
    "    ------- \n",
    "    list \n",
    "        A list of strings containing the contents of the file tokenized.\n",
    "    \"\"\" \n",
    "    result = [] \n",
    "\n",
    "    for i in range(len(file_contents)): \n",
    "        tokenized = [] \n",
    "        # split the line by spaces \n",
    "        tokenized = file_contents[i].split() \n",
    "        result.append(tokenized) \n",
    "\n",
    "    return result\n"
   ]
  },
  {
   "cell_type": "code",
   "execution_count": 5,
   "id": "04074f21",
   "metadata": {},
   "outputs": [
    {
     "name": "stdout",
     "output_type": "stream",
     "text": [
      "['word', 'text']\n"
     ]
    },
    {
     "name": "stderr",
     "output_type": "stream",
     "text": [
      "[nltk_data] Error loading stopwords: <urlopen error [Errno 11001]\n",
      "[nltk_data]     getaddrinfo failed>\n"
     ]
    }
   ],
   "source": [
    "from nltk.tokenize import word_tokenize \n",
    "import nltk \n",
    "from nltk.corpus import stopwords \n",
    "nltk.download('stopwords') \n",
    "for i in range(1): \n",
    "    # this will convert \n",
    "    # the word into tokens \n",
    "    text_tokens = word_tokenize(read) \n",
    "tokens_without_sw = [ \n",
    "    word for word in text_tokens if not word in stopwords.words()] \n",
    "print(tokens_without_sw) "
   ]
  },
  {
   "cell_type": "code",
   "execution_count": 6,
   "id": "7abd6528",
   "metadata": {},
   "outputs": [
    {
     "data": {
      "text/plain": [
       "{'word': [1], 'text': [2]}"
      ]
     },
     "execution_count": 6,
     "metadata": {},
     "output_type": "execute_result"
    }
   ],
   "source": [
    "dict = {} \n",
    "for i in range(line): \n",
    "    check = array[i].lower() \n",
    "    for item in tokens_without_sw: \n",
    "         if item in check: \n",
    "            if item not in dict: \n",
    "                dict[item] = [] \n",
    "                if item in dict: \n",
    "                    dict[item].append(i+1) \n",
    "dict "
   ]
  }
 ],
 "metadata": {
  "kernelspec": {
   "display_name": "Python 3 (ipykernel)",
   "language": "python",
   "name": "python3"
  },
  "language_info": {
   "codemirror_mode": {
    "name": "ipython",
    "version": 3
   },
   "file_extension": ".py",
   "mimetype": "text/x-python",
   "name": "python",
   "nbconvert_exporter": "python",
   "pygments_lexer": "ipython3",
   "version": "3.9.12"
  }
 },
 "nbformat": 4,
 "nbformat_minor": 5
}
