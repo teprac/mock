{
 "cells": [
  {
   "cell_type": "code",
   "execution_count": 1,
   "id": "483d6896",
   "metadata": {},
   "outputs": [
    {
     "ename": "KeyError",
     "evalue": "'name'",
     "output_type": "error",
     "traceback": [
      "\u001b[1;31m---------------------------------------------------------------------------\u001b[0m",
      "\u001b[1;31mKeyError\u001b[0m                                  Traceback (most recent call last)",
      "Input \u001b[1;32mIn [1]\u001b[0m, in \u001b[0;36m<cell line: 17>\u001b[1;34m()\u001b[0m\n\u001b[0;32m     23\u001b[0m data\u001b[38;5;241m=\u001b[39m r\u001b[38;5;241m.\u001b[39mjson()\n\u001b[0;32m     25\u001b[0m formatted_json \u001b[38;5;241m=\u001b[39m json\u001b[38;5;241m.\u001b[39mdumps (data, sort_keys \u001b[38;5;241m=\u001b[39m \u001b[38;5;28;01mTrue\u001b[39;00m, indent \u001b[38;5;241m=\u001b[39m \u001b[38;5;241m4\u001b[39m)\n\u001b[1;32m---> 27\u001b[0m country_name_list\u001b[38;5;241m.\u001b[39mappend(\u001b[43mdata\u001b[49m\u001b[43m[\u001b[49m\u001b[38;5;124;43m'\u001b[39;49m\u001b[38;5;124;43mname\u001b[39;49m\u001b[38;5;124;43m'\u001b[39;49m\u001b[43m]\u001b[49m)\n\u001b[0;32m     28\u001b[0m maxtemp\u001b[38;5;241m.\u001b[39mappend(data[\u001b[38;5;124m'\u001b[39m\u001b[38;5;124mmain\u001b[39m\u001b[38;5;124m'\u001b[39m][\u001b[38;5;124m'\u001b[39m\u001b[38;5;124mtemp_max\u001b[39m\u001b[38;5;124m'\u001b[39m])\n\u001b[0;32m     29\u001b[0m mintemp\u001b[38;5;241m.\u001b[39mappend(data[\u001b[38;5;124m'\u001b[39m\u001b[38;5;124mmain\u001b[39m\u001b[38;5;124m'\u001b[39m][\u001b[38;5;124m'\u001b[39m\u001b[38;5;124mtemp_min\u001b[39m\u001b[38;5;124m'\u001b[39m])\n",
      "\u001b[1;31mKeyError\u001b[0m: 'name'"
     ]
    }
   ],
   "source": [
    "import requests\n",
    "import pandas as pd\n",
    "import json\n",
    "import matplotlib.pyplot as plt\n",
    "import seaborn as sns\n",
    "\n",
    "API_key = '89b6535b863227f5b3200a4f58ca7650'\n",
    "\n",
    "countries = ['Jamaica', 'Indonesia', 'United States', \"Turkey\", 'Saudi Arabia', \"Egypt\", 'China']\n",
    "\n",
    "country_name_list = []\n",
    "maxtemp = []\n",
    "mintemp = []\n",
    "humidity = []\n",
    "windspeed= []\n",
    "\n",
    "for country_names in countries:\n",
    "    \n",
    "    url = f'http://api.openweathermap.org/data/2.5/weather?q={country_names} &APPID={API_key}&units=imperial'\n",
    "    \n",
    "    r = requests.get(url)\n",
    "    \n",
    "    data= r.json()\n",
    "    \n",
    "    formatted_json = json.dumps (data, sort_keys = True, indent = 4)\n",
    "    \n",
    "    country_name_list.append(data['name'])\n",
    "    maxtemp.append(data['main']['temp_max'])\n",
    "    mintemp.append(data['main']['temp_min'])\n",
    "    humidity.append(data['main']['humidity'])\n",
    "    windspeed.append(data['wind']['speed'])\n",
    "    \n",
    "df = pd.DataFrame()\n",
    "df['Names'] = country_name_list\n",
    "df['Max Temp'] = maxtemp\n",
    "df['Min_Temp'] = mintemp\n",
    "df['Humidity'] = humidity\n",
    "df['WindSpeed'] = windspeed\n",
    "\n",
    "\n",
    "df.head()\n"
   ]
  },
  {
   "cell_type": "code",
   "execution_count": null,
   "id": "80354d4f",
   "metadata": {},
   "outputs": [],
   "source": [
    "df.isna().sum()"
   ]
  },
  {
   "cell_type": "code",
   "execution_count": null,
   "id": "4412a3b5",
   "metadata": {},
   "outputs": [],
   "source": [
    "df.duplicated().sum()"
   ]
  },
  {
   "cell_type": "code",
   "execution_count": null,
   "id": "6bfd281b",
   "metadata": {},
   "outputs": [],
   "source": [
    "df.describe()"
   ]
  },
  {
   "cell_type": "code",
   "execution_count": null,
   "id": "3aaf4652",
   "metadata": {},
   "outputs": [],
   "source": [
    "df.info()"
   ]
  },
  {
   "cell_type": "code",
   "execution_count": null,
   "id": "59db85af",
   "metadata": {},
   "outputs": [],
   "source": [
    "plt.figure(figsize=(12,6))\n",
    "plt.bar(df[ 'Names'], df[ 'Max_Temp'], color='crimson') plt.title(\"Max Temperature in different countries\")\n",
    "plt.ylabel(\"Temperature\")\n",
    "plt.show()"
   ]
  },
  {
   "cell_type": "code",
   "execution_count": null,
   "id": "f5b42edb",
   "metadata": {},
   "outputs": [],
   "source": [
    "plt.figure(figsize=(12,6))\n",
    "plt.bar(df['Names'], df[ 'Min_Temp'], color='skyblue') \n",
    "plt.title(\"Min Temperature in different countries\")\n",
    "plt.ylabel(\"Temperature\")\n",
    "plt.show()"
   ]
  },
  {
   "cell_type": "code",
   "execution_count": null,
   "id": "173d20e2",
   "metadata": {},
   "outputs": [],
   "source": [
    "plt.figure(figsize=(12,6))\n",
    "plt.bar(df[ 'Humidity'], df[ 'Min_Temp'], color= 'lightgreen') \n",
    "plt.title(\"Temperature to Humidity relationship\")\n",
    "plt.ylabel(\"Temperature\")\n",
    "plt.xlabel(\"Humidity\")\n",
    "plt.show()  "
   ]
  }
 ],
 "metadata": {
  "kernelspec": {
   "display_name": "Python 3 (ipykernel)",
   "language": "python",
   "name": "python3"
  },
  "language_info": {
   "codemirror_mode": {
    "name": "ipython",
    "version": 3
   },
   "file_extension": ".py",
   "mimetype": "text/x-python",
   "name": "python",
   "nbconvert_exporter": "python",
   "pygments_lexer": "ipython3",
   "version": "3.9.12"
  }
 },
 "nbformat": 4,
 "nbformat_minor": 5
}
