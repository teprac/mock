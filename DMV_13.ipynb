{
 "cells": [
  {
   "cell_type": "code",
   "execution_count": 1,
   "id": "e2a76d43",
   "metadata": {},
   "outputs": [
    {
     "name": "stdout",
     "output_type": "stream",
     "text": [
      "                 Open       High        Low      Close  Adj Close     Volume\n",
      "Date                                                                        \n",
      "2012-05-18  42.049999  45.000000  38.000000  38.230000  38.230000  573576400\n",
      "2012-05-21  36.529999  36.660000  33.000000  34.029999  34.029999  168192700\n",
      "2012-05-22  32.610001  33.590000  30.940001  31.000000  31.000000  101786600\n",
      "2012-05-23  31.370001  32.500000  31.360001  32.000000  32.000000   73600000\n",
      "2012-05-24  32.950001  33.209999  31.770000  33.029999  33.029999   50237200\n"
     ]
    }
   ],
   "source": [
    "import numpy as np\n",
    "import pandas as pd\n",
    "import matplotlib.pyplot as plt\n",
    "import seaborn as sns\n",
    "from statsmodels.tsa.arima.model import ARIMA\n",
    "from statsmodels.tsa.seasonal import STL\n",
    "\n",
    "# Load the CSV file into a DataFrame\n",
    "df = pd.read_csv(\"fb.us.csv\", parse_dates=['Date'], index_col='Date')\n",
    "\n",
    "# Display the first few rows of the DataFrame\n",
    "print(df.head())\n"
   ]
  },
  {
   "cell_type": "code",
   "execution_count": 2,
   "id": "387676cc",
   "metadata": {},
   "outputs": [
    {
     "data": {
      "text/html": [
       "<div>\n",
       "<style scoped>\n",
       "    .dataframe tbody tr th:only-of-type {\n",
       "        vertical-align: middle;\n",
       "    }\n",
       "\n",
       "    .dataframe tbody tr th {\n",
       "        vertical-align: top;\n",
       "    }\n",
       "\n",
       "    .dataframe thead th {\n",
       "        text-align: right;\n",
       "    }\n",
       "</style>\n",
       "<table border=\"1\" class=\"dataframe\">\n",
       "  <thead>\n",
       "    <tr style=\"text-align: right;\">\n",
       "      <th></th>\n",
       "      <th>Open</th>\n",
       "      <th>High</th>\n",
       "      <th>Low</th>\n",
       "      <th>Close</th>\n",
       "      <th>Adj Close</th>\n",
       "      <th>Volume</th>\n",
       "    </tr>\n",
       "  </thead>\n",
       "  <tbody>\n",
       "    <tr>\n",
       "      <th>count</th>\n",
       "      <td>2479.000000</td>\n",
       "      <td>2479.000000</td>\n",
       "      <td>2479.000000</td>\n",
       "      <td>2479.000000</td>\n",
       "      <td>2479.000000</td>\n",
       "      <td>2.479000e+03</td>\n",
       "    </tr>\n",
       "    <tr>\n",
       "      <th>mean</th>\n",
       "      <td>147.088826</td>\n",
       "      <td>148.858584</td>\n",
       "      <td>145.301033</td>\n",
       "      <td>147.125946</td>\n",
       "      <td>147.125946</td>\n",
       "      <td>3.090757e+07</td>\n",
       "    </tr>\n",
       "    <tr>\n",
       "      <th>std</th>\n",
       "      <td>89.687990</td>\n",
       "      <td>90.793462</td>\n",
       "      <td>88.625227</td>\n",
       "      <td>89.727593</td>\n",
       "      <td>89.727593</td>\n",
       "      <td>2.750507e+07</td>\n",
       "    </tr>\n",
       "    <tr>\n",
       "      <th>min</th>\n",
       "      <td>18.080000</td>\n",
       "      <td>18.270000</td>\n",
       "      <td>17.549999</td>\n",
       "      <td>17.730000</td>\n",
       "      <td>17.730000</td>\n",
       "      <td>5.913100e+06</td>\n",
       "    </tr>\n",
       "    <tr>\n",
       "      <th>25%</th>\n",
       "      <td>75.950001</td>\n",
       "      <td>76.879997</td>\n",
       "      <td>75.024998</td>\n",
       "      <td>75.949997</td>\n",
       "      <td>75.949997</td>\n",
       "      <td>1.580325e+07</td>\n",
       "    </tr>\n",
       "    <tr>\n",
       "      <th>50%</th>\n",
       "      <td>139.619995</td>\n",
       "      <td>140.580002</td>\n",
       "      <td>138.490005</td>\n",
       "      <td>139.600006</td>\n",
       "      <td>139.600006</td>\n",
       "      <td>2.242640e+07</td>\n",
       "    </tr>\n",
       "    <tr>\n",
       "      <th>75%</th>\n",
       "      <td>192.294998</td>\n",
       "      <td>194.245003</td>\n",
       "      <td>189.599998</td>\n",
       "      <td>192.214996</td>\n",
       "      <td>192.214996</td>\n",
       "      <td>3.591900e+07</td>\n",
       "    </tr>\n",
       "    <tr>\n",
       "      <th>max</th>\n",
       "      <td>381.679993</td>\n",
       "      <td>384.329987</td>\n",
       "      <td>378.809998</td>\n",
       "      <td>382.179993</td>\n",
       "      <td>382.179993</td>\n",
       "      <td>5.735764e+08</td>\n",
       "    </tr>\n",
       "  </tbody>\n",
       "</table>\n",
       "</div>"
      ],
      "text/plain": [
       "              Open         High          Low        Close    Adj Close  \\\n",
       "count  2479.000000  2479.000000  2479.000000  2479.000000  2479.000000   \n",
       "mean    147.088826   148.858584   145.301033   147.125946   147.125946   \n",
       "std      89.687990    90.793462    88.625227    89.727593    89.727593   \n",
       "min      18.080000    18.270000    17.549999    17.730000    17.730000   \n",
       "25%      75.950001    76.879997    75.024998    75.949997    75.949997   \n",
       "50%     139.619995   140.580002   138.490005   139.600006   139.600006   \n",
       "75%     192.294998   194.245003   189.599998   192.214996   192.214996   \n",
       "max     381.679993   384.329987   378.809998   382.179993   382.179993   \n",
       "\n",
       "             Volume  \n",
       "count  2.479000e+03  \n",
       "mean   3.090757e+07  \n",
       "std    2.750507e+07  \n",
       "min    5.913100e+06  \n",
       "25%    1.580325e+07  \n",
       "50%    2.242640e+07  \n",
       "75%    3.591900e+07  \n",
       "max    5.735764e+08  "
      ]
     },
     "execution_count": 2,
     "metadata": {},
     "output_type": "execute_result"
    }
   ],
   "source": [
    "df.describe()"
   ]
  },
  {
   "cell_type": "code",
   "execution_count": 3,
   "id": "3fc6574a",
   "metadata": {},
   "outputs": [
    {
     "name": "stdout",
     "output_type": "stream",
     "text": [
      "<class 'pandas.core.frame.DataFrame'>\n",
      "DatetimeIndex: 2479 entries, 2012-05-18 to 2022-03-24\n",
      "Data columns (total 6 columns):\n",
      " #   Column     Non-Null Count  Dtype  \n",
      "---  ------     --------------  -----  \n",
      " 0   Open       2479 non-null   float64\n",
      " 1   High       2479 non-null   float64\n",
      " 2   Low        2479 non-null   float64\n",
      " 3   Close      2479 non-null   float64\n",
      " 4   Adj Close  2479 non-null   float64\n",
      " 5   Volume     2479 non-null   int64  \n",
      "dtypes: float64(5), int64(1)\n",
      "memory usage: 135.6 KB\n"
     ]
    }
   ],
   "source": [
    "df.info()"
   ]
  },
  {
   "cell_type": "code",
   "execution_count": 4,
   "id": "5f047b0d",
   "metadata": {},
   "outputs": [
    {
     "data": {
      "text/plain": [
       "Open         0\n",
       "High         0\n",
       "Low          0\n",
       "Close        0\n",
       "Adj Close    0\n",
       "Volume       0\n",
       "dtype: int64"
      ]
     },
     "execution_count": 4,
     "metadata": {},
     "output_type": "execute_result"
    }
   ],
   "source": [
    "df.isna().sum()"
   ]
  },
  {
   "cell_type": "code",
   "execution_count": 5,
   "id": "21bc80a4",
   "metadata": {},
   "outputs": [
    {
     "data": {
      "text/plain": [
       "Open         0\n",
       "High         0\n",
       "Low          0\n",
       "Close        0\n",
       "Adj Close    0\n",
       "Volume       0\n",
       "dtype: int64"
      ]
     },
     "execution_count": 5,
     "metadata": {},
     "output_type": "execute_result"
    }
   ],
   "source": [
    "df.isnull().sum()"
   ]
  },
  {
   "cell_type": "code",
   "execution_count": 6,
   "id": "b1ab00ad",
   "metadata": {},
   "outputs": [
    {
     "ename": "SyntaxError",
     "evalue": "unexpected EOF while parsing (4138581273.py, line 1)",
     "output_type": "error",
     "traceback": [
      "\u001b[1;36m  Input \u001b[1;32mIn [6]\u001b[1;36m\u001b[0m\n\u001b[1;33m    print(df.columns\u001b[0m\n\u001b[1;37m                    ^\u001b[0m\n\u001b[1;31mSyntaxError\u001b[0m\u001b[1;31m:\u001b[0m unexpected EOF while parsing\n"
     ]
    }
   ],
   "source": [
    "print(df.columns"
   ]
  },
  {
   "cell_type": "code",
   "execution_count": null,
   "id": "28b39730",
   "metadata": {},
   "outputs": [],
   "source": [
    "# Calculate 30-day and 60-day moving averages\n",
    "df[\"30-day-average\"] = df['Close'].rolling(window=30).mean()\n",
    "df[\"60-day-average\"] = df['Close'].rolling(window=60).mean()\n",
    "\n",
    "# Plot the data\n",
    "df[[\"Close\", \"30-day-average\", \"60-day-average\"]].plot(figsize=(12, 6), label=\"Moving averages\")\n",
    "plt.legend()\n",
    "plt.xlabel(\"Date\")\n",
    "plt.ylabel(\"Price\")\n",
    "plt.show()\n"
   ]
  },
  {
   "cell_type": "code",
   "execution_count": null,
   "id": "e225c366",
   "metadata": {},
   "outputs": [],
   "source": [
    "result = STL( df[\"Close\"], period=7).fit()\n",
    "fig= result.plot()\n",
    "fig.set_size_inches (12,6)"
   ]
  },
  {
   "cell_type": "code",
   "execution_count": null,
   "id": "9b650e07",
   "metadata": {},
   "outputs": [],
   "source": [
    "result = STL( df[\"Close\"], period=30).fit()\n",
    "fig= result.plot()\n",
    "fig.set_size_inches (12,6)"
   ]
  },
  {
   "cell_type": "code",
   "execution_count": null,
   "id": "2c4351e8",
   "metadata": {},
   "outputs": [],
   "source": [
    "result = STL( df[\"Close\"], period=365).fit() \n",
    "fig= result.plot()\n",
    "fig.set_size_inches (12,6)"
   ]
  },
  {
   "cell_type": "code",
   "execution_count": null,
   "id": "84559fa3",
   "metadata": {},
   "outputs": [],
   "source": [
    "corrr = df[[\"Volume\", \"Close\"]].corr() \n",
    "sns.heatmap(corrr, annot=True)"
   ]
  },
  {
   "cell_type": "code",
   "execution_count": null,
   "id": "d4e849b3",
   "metadata": {},
   "outputs": [],
   "source": [
    "model = ARIMA( df[\"Close\"], order=(2,1,2))\n",
    "results model.fit()\n",
    "forecast_steps = 365\n",
    "forecast results. forecast (forecast_steps)\n",
    "forecast forecast [1:]\n",
    "forecast_index = pd.date_range (start=df.index [-1], periods=forecast_steps, closed='right')\n",
    "plt.figure(figsize=(12,6))\n",
    "plt.plot(forecast_index, forecast, label=\"Forecasted Value\", color=\"Blue\")\n",
    "plt.plot(df.index, df['Close'], label=\"Actual Value\", color=\"Red\")\n",
    "plt.legend() plt.show()\n",
    "C:\\Users\\lenovo\\AppData\\Local\\Programs\\Python\\Python310\\lib\\site-packages\\statsmodels\\tsa\\base\\ts a_model.py:471: ValueWarning: A date index has been provided, but it has no associated frequency information and so will be ignored when e.g. forecasting.\n",
    "self._init_dates (dates, freq)\n",
    "C:\\Users\\lenovo\\AppData\\Local\\Programs\\Python\\Python310\\lib\\site-packages\\statsmodels\\tsa\\base\\ts a_model.py:471: ValueWarning: A date index has been provided, but it has no associated frequency information and so will be ignored when e.g. forecasting.\n",
    "self._init_dates (dates, freq)\n",
    "C:\\Users\\lenovo\\AppData\\Local\\Programs\\Python\\Python310\\lib\\site-packages\\statsmodels\\tsa\\base\\ts a_model.py:471: ValueWarning: A date index has been provided, but it has no associated frequency information and so will be ignored when e.g. forecasting.\n",
    "self._init_dates (dates, freq)\n",
    "C:\\Users\\lenovo\\AppData\\Local\\Programs\\Python\\Python310\\lib\\site-packages\\statsmodels\\tsa\\base\\ts a_model.py:834: ValueWarning: No supported index is available. Prediction results will be given w ith an integer index beginning at start.\n",
    "return get_prediction_index(\n",
    "C:\\Users\\lenovo\\AppData\\Local\\Temp\\ipykernel_17364\\930545061.py:6: FutureWarning: The behavior of series[ij] with an integer-dtype index is deprecated. In a future version, this will be treate d as *label-based indexing, consistent with e.g. series[i] lookups. To retain the old behavio r, use series.iloc[i:j]. To get the future behavior, use `series.loc[ij]`. forecast forecast [1:]\n",
    "C:\\Users\\lenovo\\AppData\\Local\\Temp\\ipykernel_17364\\930545061.py:7: FutureWarning: Argument `close d is deprecated in favor of inclusive`. forecast_index = pd.date_range (start=df. index [-1], periods-forecast_steps, closed='right')\n",
    "175\n",
    "Forecasted Value Actual Value\n",
    "150\n",
    "125-\n",
    "100-\n",
    "75\n",
    "50\n",
    "25\n",
    "2013\n",
    "2014\n",
    "2015\n",
    "2016\n",
    "2017\n",
    "2018\n",
    "2019"
   ]
  }
 ],
 "metadata": {
  "kernelspec": {
   "display_name": "Python 3 (ipykernel)",
   "language": "python",
   "name": "python3"
  },
  "language_info": {
   "codemirror_mode": {
    "name": "ipython",
    "version": 3
   },
   "file_extension": ".py",
   "mimetype": "text/x-python",
   "name": "python",
   "nbconvert_exporter": "python",
   "pygments_lexer": "ipython3",
   "version": "3.9.12"
  }
 },
 "nbformat": 4,
 "nbformat_minor": 5
}
